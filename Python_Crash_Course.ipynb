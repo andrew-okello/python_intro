{
  "nbformat": 4,
  "nbformat_minor": 0,
  "metadata": {
    "kernelspec": {
      "display_name": "Python 3",
      "language": "python",
      "name": "python3"
    },
    "language_info": {
      "codemirror_mode": {
        "name": "ipython",
        "version": 3
      },
      "file_extension": ".py",
      "mimetype": "text/x-python",
      "name": "python",
      "nbconvert_exporter": "python",
      "pygments_lexer": "ipython3",
      "version": "3.8.8"
    },
    "colab": {
      "name": "26thJuly2021_Allan Ninyesiga_Python Crash Course.ipynb",
      "provenance": [],
      "include_colab_link": true
    }
  },
  "cells": [
    {
      "cell_type": "markdown",
      "metadata": {
        "id": "view-in-github",
        "colab_type": "text"
      },
      "source": [
        "<a href=\"https://colab.research.google.com/github/andrew-okello/python_intro/blob/main/Python_Crash_Course.ipynb\" target=\"_parent\"><img src=\"https://colab.research.google.com/assets/colab-badge.svg\" alt=\"Open In Colab\"/></a>"
      ]
    },
    {
      "cell_type": "markdown",
      "metadata": {
        "id": "bQoZiRPLo1u4"
      },
      "source": [
        "# Deep Learning IndabaX Uganda 2021"
      ]
    },
    {
      "cell_type": "code",
      "metadata": {
        "id": "5aRifaBpo1u8"
      },
      "source": [
        ""
      ],
      "execution_count": null,
      "outputs": []
    },
    {
      "cell_type": "markdown",
      "metadata": {
        "id": "36JqZOAjo1u8"
      },
      "source": [
        "\n",
        "\n",
        "# Python Crash Course\n",
        "\n",
        "\n",
        "\n",
        "\n",
        "Whether you are an experienced programmer or not, this tutorial is intended for everyone who wishes to learn the Python programming language and use it for deep learning.\n",
        "\n",
        "This tutorial does not attempt to be comprehensive and cover every single feature, or even every commonly used feature. Instead, it introduces many of Python’s most noteworthy features, and will give you a good idea of the language’s flavor and style. After reading it, you will be able to read and write Python modules and programs, and you will be ready to learn more about the various Python library module\n",
        "\n",
        "Tools to use:\n",
        "- Anaconda\n",
        "- Jupyter notebooks\n",
        "\n",
        "\n"
      ]
    },
    {
      "cell_type": "markdown",
      "metadata": {
        "id": "AFKbwrs4o1u9"
      },
      "source": [
        "Whatis Python? and why Python?\n",
        "- Python is an interpreted, object-oriented, high-level programming language with dynamic semantics\n",
        "- Python's simple, easy to learn syntax emphasizes readability and therefore reduces the cost of program maintenance. \n",
        "- Its high-level built in data structures make it very attractive for Rapid Application Development, as well as for use as a scripting or glue language to connect existing components together\n",
        "- Python supports modules and packages, which encourages program modularity and code reuse. \n",
        "- Free >open source. \n",
        "\n"
      ]
    },
    {
      "cell_type": "markdown",
      "metadata": {
        "id": "Hzy8jueeo1u-"
      },
      "source": [
        "To be covered\n",
        "\n",
        "\n",
        " •\tData types\n",
        " \n",
        "    o\tNumbers\n",
        "    o\tStrings\n",
        "    o\tPrinting\n",
        "    o\tLists\n",
        "    o\tTuples\n",
        "    o\tSets\n",
        "    o\tDictionaries\n",
        "    o\tBooleans\n",
        "   \n",
        "    \n",
        "    \n",
        "•\tComparison Operators\n",
        "\n",
        "•\tif, elif, else Statements\n",
        "\n",
        "•\tfor Loops\n",
        "\n",
        "•\twhile Loops\n",
        "\n",
        "•\trange()\n",
        "\n",
        "•\tlist comprehension\n",
        "\n",
        "•\tfunctions\n",
        "\n",
        "•\tlambda expressions\n",
        "\n",
        "•\tmap and filter\n",
        "\n",
        "•\tmethods\n",
        "\n"
      ]
    },
    {
      "cell_type": "markdown",
      "metadata": {
        "id": "9MVaeFpFo1u-"
      },
      "source": [
        "## Data types\n",
        "\n",
        "The classification or categorization of data items. It represents the kind of value that tells what operations can be performed on a particular data\n",
        "\n",
        "### Numeric"
      ]
    },
    {
      "cell_type": "code",
      "metadata": {
        "id": "GVS9LF8eo1u_",
        "outputId": "a8d4241f-e0bd-4754-a6da-556b7f061727"
      },
      "source": [
        "1 + 4"
      ],
      "execution_count": null,
      "outputs": [
        {
          "output_type": "execute_result",
          "data": {
            "text/plain": [
              "5"
            ]
          },
          "metadata": {
            "tags": []
          },
          "execution_count": 108
        }
      ]
    },
    {
      "cell_type": "code",
      "metadata": {
        "id": "XtnDuxqgo1vA",
        "outputId": "6fa1bdb6-3ec1-493f-9726-a59c99285a08"
      },
      "source": [
        "2*5"
      ],
      "execution_count": null,
      "outputs": [
        {
          "output_type": "execute_result",
          "data": {
            "text/plain": [
              "10"
            ]
          },
          "metadata": {
            "tags": []
          },
          "execution_count": 109
        }
      ]
    },
    {
      "cell_type": "code",
      "metadata": {
        "id": "kOVWYnX0o1vA",
        "outputId": "4d4cbab2-bc70-4574-df4a-87b85f8ddcd7"
      },
      "source": [
        "3/ 2"
      ],
      "execution_count": null,
      "outputs": [
        {
          "output_type": "execute_result",
          "data": {
            "text/plain": [
              "1.5"
            ]
          },
          "metadata": {
            "tags": []
          },
          "execution_count": 3
        }
      ]
    },
    {
      "cell_type": "code",
      "metadata": {
        "id": "I3QMuW0mo1vB",
        "outputId": "6a532a91-0028-4df0-e205-7ced1385c147"
      },
      "source": [
        "3.7 +9.9"
      ],
      "execution_count": null,
      "outputs": [
        {
          "output_type": "execute_result",
          "data": {
            "text/plain": [
              "13.600000000000001"
            ]
          },
          "metadata": {
            "tags": []
          },
          "execution_count": 110
        }
      ]
    },
    {
      "cell_type": "code",
      "metadata": {
        "id": "xHpoLbC3o1vB",
        "outputId": "06ba6dcc-f1c9-471d-be3e-bf3426d708fe"
      },
      "source": [
        "2 ** 3"
      ],
      "execution_count": null,
      "outputs": [
        {
          "output_type": "execute_result",
          "data": {
            "text/plain": [
              "8"
            ]
          },
          "metadata": {
            "tags": []
          },
          "execution_count": 111
        }
      ]
    },
    {
      "cell_type": "code",
      "metadata": {
        "id": "yUuyldZPo1vC",
        "outputId": "259f787c-73e5-4055-f063-d5da70a759e8"
      },
      "source": [
        "2**2"
      ],
      "execution_count": null,
      "outputs": [
        {
          "output_type": "execute_result",
          "data": {
            "text/plain": [
              "4"
            ]
          },
          "metadata": {
            "tags": []
          },
          "execution_count": 112
        }
      ]
    },
    {
      "cell_type": "code",
      "metadata": {
        "id": "dEEscfwlo1vC"
      },
      "source": [
        ""
      ],
      "execution_count": null,
      "outputs": []
    },
    {
      "cell_type": "code",
      "metadata": {
        "id": "A7hrkGOIo1vC",
        "outputId": "5e6c36c2-a114-48ce-9dd0-265167d877be"
      },
      "source": [
        "5 % 2"
      ],
      "execution_count": null,
      "outputs": [
        {
          "output_type": "execute_result",
          "data": {
            "text/plain": [
              "1"
            ]
          },
          "metadata": {
            "tags": []
          },
          "execution_count": 5
        }
      ]
    },
    {
      "cell_type": "code",
      "metadata": {
        "id": "S4N5mnqdo1vD",
        "outputId": "987cdb34-dfd7-4f97-c1f6-f0c3bc77340a"
      },
      "source": [
        "4 % 2"
      ],
      "execution_count": null,
      "outputs": [
        {
          "output_type": "execute_result",
          "data": {
            "text/plain": [
              "0"
            ]
          },
          "metadata": {
            "tags": []
          },
          "execution_count": 6
        }
      ]
    },
    {
      "cell_type": "code",
      "metadata": {
        "id": "cgjniHhCo1vD",
        "outputId": "21f9d8fe-93e7-4764-fc4e-55c45a7f9dab"
      },
      "source": [
        "(4 + 3) * (10 - 7)"
      ],
      "execution_count": null,
      "outputs": [
        {
          "output_type": "execute_result",
          "data": {
            "text/plain": [
              "21"
            ]
          },
          "metadata": {
            "tags": []
          },
          "execution_count": 7
        }
      ]
    },
    {
      "cell_type": "code",
      "metadata": {
        "id": "mEW-hCjXo1vE",
        "outputId": "de4d238d-12c4-4e58-c1bf-24d79ff2e304"
      },
      "source": [
        "4+3*10-7"
      ],
      "execution_count": null,
      "outputs": [
        {
          "output_type": "execute_result",
          "data": {
            "text/plain": [
              "27"
            ]
          },
          "metadata": {
            "tags": []
          },
          "execution_count": 113
        }
      ]
    },
    {
      "cell_type": "markdown",
      "metadata": {
        "id": "-pbt3wXAo1vE"
      },
      "source": [
        "### Variable Assignment"
      ]
    },
    {
      "cell_type": "code",
      "metadata": {
        "id": "cV-Mgsuvo1vE"
      },
      "source": [
        "# Can not start with number or special characters\n",
        "name_of_var = 2"
      ],
      "execution_count": null,
      "outputs": []
    },
    {
      "cell_type": "code",
      "metadata": {
        "id": "2hsv207no1vF"
      },
      "source": [
        "# $num=2"
      ],
      "execution_count": null,
      "outputs": []
    },
    {
      "cell_type": "code",
      "metadata": {
        "id": "EufzfkTqo1vG"
      },
      "source": [
        "x = 4\n",
        "y = 5"
      ],
      "execution_count": null,
      "outputs": []
    },
    {
      "cell_type": "code",
      "metadata": {
        "id": "pWiFik38o1vG"
      },
      "source": [
        "z = x + y"
      ],
      "execution_count": null,
      "outputs": []
    },
    {
      "cell_type": "code",
      "metadata": {
        "id": "_iCkN7nDo1vH",
        "outputId": "563d1f25-a18c-4abf-e8fc-c810c6f77306"
      },
      "source": [
        "z"
      ],
      "execution_count": null,
      "outputs": [
        {
          "output_type": "execute_result",
          "data": {
            "text/plain": [
              "9"
            ]
          },
          "metadata": {
            "tags": []
          },
          "execution_count": 11
        }
      ]
    },
    {
      "cell_type": "code",
      "metadata": {
        "id": "nVj-707Fo1vH",
        "outputId": "352a0b84-1b8f-43d0-9354-5f6d2df859d9"
      },
      "source": [
        "type(z)"
      ],
      "execution_count": null,
      "outputs": [
        {
          "output_type": "execute_result",
          "data": {
            "text/plain": [
              "int"
            ]
          },
          "metadata": {
            "tags": []
          },
          "execution_count": 124
        }
      ]
    },
    {
      "cell_type": "code",
      "metadata": {
        "id": "TtNsaOA3o1vI",
        "outputId": "31cb542b-70bc-41ec-afc0-d077a6538b48"
      },
      "source": [
        "# the program to calculate sum of two numbers\n",
        "num1=20\n",
        "num2=30\n",
        "total=num1+num2\n",
        "total"
      ],
      "execution_count": null,
      "outputs": [
        {
          "output_type": "execute_result",
          "data": {
            "text/plain": [
              "50"
            ]
          },
          "metadata": {
            "tags": []
          },
          "execution_count": 117
        }
      ]
    },
    {
      "cell_type": "markdown",
      "metadata": {
        "id": "yGVqyvzIo1vI"
      },
      "source": [
        "### Strings"
      ]
    },
    {
      "cell_type": "code",
      "metadata": {
        "id": "aNGufAT6o1vJ",
        "outputId": "630b52c0-e064-4940-9409-865a13afd778"
      },
      "source": [
        "'single quotes'"
      ],
      "execution_count": null,
      "outputs": [
        {
          "output_type": "execute_result",
          "data": {
            "text/plain": [
              "'single quotes'"
            ]
          },
          "metadata": {
            "tags": []
          },
          "execution_count": 12
        }
      ]
    },
    {
      "cell_type": "code",
      "metadata": {
        "id": "Y9_0ORzbo1vK",
        "outputId": "aefbacbe-c6c9-4275-e6a9-8115bf1487fa"
      },
      "source": [
        "\"double quotes\""
      ],
      "execution_count": null,
      "outputs": [
        {
          "output_type": "execute_result",
          "data": {
            "text/plain": [
              "'double quotes'"
            ]
          },
          "metadata": {
            "tags": []
          },
          "execution_count": 13
        }
      ]
    },
    {
      "cell_type": "code",
      "metadata": {
        "id": "VcuPX1t2o1vK",
        "outputId": "a7dd88f7-af86-4274-a006-dda3788f1204"
      },
      "source": [
        "name='Allan Ninyesiga'\n",
        "conference=\"IndabaXUG 2021\"\n",
        "name"
      ],
      "execution_count": null,
      "outputs": [
        {
          "output_type": "execute_result",
          "data": {
            "text/plain": [
              "'Allan Ninyesiga'"
            ]
          },
          "metadata": {
            "tags": []
          },
          "execution_count": 121
        }
      ]
    },
    {
      "cell_type": "code",
      "metadata": {
        "id": "GR2FdBOuo1vL",
        "outputId": "eac5b6f3-0efc-4ae6-bbed-5306ca2b044d"
      },
      "source": [
        "print(name)"
      ],
      "execution_count": null,
      "outputs": [
        {
          "output_type": "stream",
          "text": [
            "Allan Ninyesiga\n"
          ],
          "name": "stdout"
        }
      ]
    },
    {
      "cell_type": "code",
      "metadata": {
        "id": "XYmEyM-6o1vM",
        "outputId": "5fbee48d-9e44-4369-d632-a3e432044239"
      },
      "source": [
        "conference"
      ],
      "execution_count": null,
      "outputs": [
        {
          "output_type": "execute_result",
          "data": {
            "text/plain": [
              "'IndabaXUG 2021'"
            ]
          },
          "metadata": {
            "tags": []
          },
          "execution_count": 122
        }
      ]
    },
    {
      "cell_type": "code",
      "metadata": {
        "id": "jK7vbhgUo1vN",
        "outputId": "5cf1dcae-64f2-4059-b7a8-99da17151d22"
      },
      "source": [
        "type(name)"
      ],
      "execution_count": null,
      "outputs": [
        {
          "output_type": "execute_result",
          "data": {
            "text/plain": [
              "str"
            ]
          },
          "metadata": {
            "tags": []
          },
          "execution_count": 123
        }
      ]
    },
    {
      "cell_type": "markdown",
      "metadata": {
        "id": "PE8ls7tco1vN"
      },
      "source": [
        "### Printing"
      ]
    },
    {
      "cell_type": "code",
      "metadata": {
        "id": "_LShti9zo1vN"
      },
      "source": [
        "greeting = 'hello'"
      ],
      "execution_count": null,
      "outputs": []
    },
    {
      "cell_type": "code",
      "metadata": {
        "id": "zHGLoRcXo1vO",
        "outputId": "5a61ad3d-fdf0-4917-f60d-a8a0c2a929bf"
      },
      "source": [
        "greeting"
      ],
      "execution_count": null,
      "outputs": [
        {
          "output_type": "execute_result",
          "data": {
            "text/plain": [
              "'hello'"
            ]
          },
          "metadata": {
            "tags": []
          },
          "execution_count": 15
        }
      ]
    },
    {
      "cell_type": "code",
      "metadata": {
        "id": "N8tXokUFo1vO",
        "outputId": "54428028-16bd-4736-8a7d-d8ac94b965eb"
      },
      "source": [
        "print(greeting)"
      ],
      "execution_count": null,
      "outputs": [
        {
          "output_type": "stream",
          "text": [
            "hello\n"
          ],
          "name": "stdout"
        }
      ]
    },
    {
      "cell_type": "code",
      "metadata": {
        "id": "LzhBJf2lo1vP"
      },
      "source": [
        "name = 'Lin'\n",
        "age = 12"
      ],
      "execution_count": null,
      "outputs": []
    },
    {
      "cell_type": "code",
      "metadata": {
        "id": "J7ow5i6Io1vQ",
        "outputId": "3991c7c0-1910-4f9e-e550-5f380d263f49"
      },
      "source": [
        "print('My name is: {x}, and I am {y} years old'.format(x=name,y=age))"
      ],
      "execution_count": null,
      "outputs": [
        {
          "output_type": "stream",
          "text": [
            "My name is: Lin, and I am 12 years old\n"
          ],
          "name": "stdout"
        }
      ]
    },
    {
      "cell_type": "code",
      "metadata": {
        "id": "jNaxzHaNo1vR",
        "outputId": "4c000d01-5345-43a0-d5eb-05827e979f5b"
      },
      "source": [
        "print('My name is:', name)"
      ],
      "execution_count": null,
      "outputs": [
        {
          "output_type": "stream",
          "text": [
            "My name is: Lin\n"
          ],
          "name": "stdout"
        }
      ]
    },
    {
      "cell_type": "code",
      "metadata": {
        "id": "NuD9tM4go1vR",
        "outputId": "494ebeef-7281-4679-e08d-ec1a4866ebf8"
      },
      "source": [
        "print('My name is: {}, and I am {} years old'.format(name,age))"
      ],
      "execution_count": null,
      "outputs": [
        {
          "output_type": "stream",
          "text": [
            "My name is: Lin, and I am 12 years old\n"
          ],
          "name": "stdout"
        }
      ]
    },
    {
      "cell_type": "markdown",
      "metadata": {
        "id": "d-YfnBeJo1vS"
      },
      "source": [
        "## Lists"
      ]
    },
    {
      "cell_type": "code",
      "metadata": {
        "id": "AOXUZSnDo1vS"
      },
      "source": [
        "# A general purpose most widely used in data structures. \n",
        "# Mutable- Yes (Grow and shrink as needed, sortable).\n",
        "#A Python list allows you to store any variable types(floats, int, strings, even other lists)"
      ],
      "execution_count": null,
      "outputs": []
    },
    {
      "cell_type": "code",
      "metadata": {
        "id": "465jKyjso1vT",
        "outputId": "ee2d6166-1f5b-468d-e7db-624ea2b3360a"
      },
      "source": [
        "[1,2,3]"
      ],
      "execution_count": null,
      "outputs": [
        {
          "output_type": "execute_result",
          "data": {
            "text/plain": [
              "[1, 2, 3]"
            ]
          },
          "metadata": {
            "tags": []
          },
          "execution_count": 21
        }
      ]
    },
    {
      "cell_type": "code",
      "metadata": {
        "id": "DIJGS-AXo1vV",
        "outputId": "d0963225-709d-42ee-9615-cc9a0afea700"
      },
      "source": [
        "['a','b','c']"
      ],
      "execution_count": null,
      "outputs": [
        {
          "output_type": "execute_result",
          "data": {
            "text/plain": [
              "['a', 'b', 'c']"
            ]
          },
          "metadata": {
            "tags": []
          },
          "execution_count": 128
        }
      ]
    },
    {
      "cell_type": "code",
      "metadata": {
        "id": "9tLevLeCo1vV"
      },
      "source": [
        ""
      ],
      "execution_count": null,
      "outputs": []
    },
    {
      "cell_type": "code",
      "metadata": {
        "id": "aHBJush6o1vW",
        "outputId": "89ee53b8-8300-4931-b3a7-977eb3f21902"
      },
      "source": [
        "['apple',1,[1,2]]"
      ],
      "execution_count": null,
      "outputs": [
        {
          "output_type": "execute_result",
          "data": {
            "text/plain": [
              "['apple', 1, [1, 2]]"
            ]
          },
          "metadata": {
            "tags": []
          },
          "execution_count": 22
        }
      ]
    },
    {
      "cell_type": "code",
      "metadata": {
        "id": "FVKZtw9ro1vW"
      },
      "source": [
        "fruits = ['apples','Oranges','mangoes']"
      ],
      "execution_count": null,
      "outputs": []
    },
    {
      "cell_type": "code",
      "metadata": {
        "id": "Eqa5AAe-o1vX",
        "outputId": "9cfd78bf-7ddd-4f6b-cb57-711725a1ba9b"
      },
      "source": [
        "fruits"
      ],
      "execution_count": null,
      "outputs": [
        {
          "output_type": "execute_result",
          "data": {
            "text/plain": [
              "['apples', 'Oranges', 'mangoes']"
            ]
          },
          "metadata": {
            "tags": []
          },
          "execution_count": 24
        }
      ]
    },
    {
      "cell_type": "code",
      "metadata": {
        "id": "gZAXk3g6o1vY"
      },
      "source": [
        "fruits.append('passion')"
      ],
      "execution_count": null,
      "outputs": []
    },
    {
      "cell_type": "code",
      "metadata": {
        "id": "Yfp0wUyZo1vY",
        "outputId": "1521baf1-63f4-4879-96b8-bd24b7e68b5f"
      },
      "source": [
        "fruits"
      ],
      "execution_count": null,
      "outputs": [
        {
          "output_type": "execute_result",
          "data": {
            "text/plain": [
              "['apples', 'Oranges', 'mangoes', 'passion']"
            ]
          },
          "metadata": {
            "tags": []
          },
          "execution_count": 26
        }
      ]
    },
    {
      "cell_type": "code",
      "metadata": {
        "id": "MuCeykR5o1vZ"
      },
      "source": [
        "# fruits."
      ],
      "execution_count": null,
      "outputs": []
    },
    {
      "cell_type": "code",
      "metadata": {
        "id": "Iqw0w12bo1vZ",
        "outputId": "3ed8a1b9-7517-4c25-8aab-2a11b3d534d2"
      },
      "source": [
        "# checking  elements\n",
        "'apples' in fruits\n",
        "    "
      ],
      "execution_count": null,
      "outputs": [
        {
          "output_type": "execute_result",
          "data": {
            "text/plain": [
              "True"
            ]
          },
          "metadata": {
            "tags": []
          },
          "execution_count": 27
        }
      ]
    },
    {
      "cell_type": "code",
      "metadata": {
        "id": "YvaBwDLjo1vZ",
        "outputId": "8c79fcc9-fd0d-45ea-b908-567e07c553a6"
      },
      "source": [
        "'oats' in fruits"
      ],
      "execution_count": null,
      "outputs": [
        {
          "output_type": "execute_result",
          "data": {
            "text/plain": [
              "False"
            ]
          },
          "metadata": {
            "tags": []
          },
          "execution_count": 130
        }
      ]
    },
    {
      "cell_type": "code",
      "metadata": {
        "id": "uIyYGOrdo1va"
      },
      "source": [
        "my_list=['a','b','c','d']"
      ],
      "execution_count": null,
      "outputs": []
    },
    {
      "cell_type": "code",
      "metadata": {
        "id": "krL5YGcbo1va",
        "outputId": "174cb3cd-0881-407f-9384-f1af277c3d2b"
      },
      "source": [
        "my_list[0]"
      ],
      "execution_count": null,
      "outputs": [
        {
          "output_type": "execute_result",
          "data": {
            "text/plain": [
              "'a'"
            ]
          },
          "metadata": {
            "tags": []
          },
          "execution_count": 29
        }
      ]
    },
    {
      "cell_type": "code",
      "metadata": {
        "id": "ablxOzNWo1vb",
        "outputId": "ad3aac50-3045-4ad8-fc8f-6da9685d8392"
      },
      "source": [
        "my_list[1]"
      ],
      "execution_count": null,
      "outputs": [
        {
          "output_type": "execute_result",
          "data": {
            "text/plain": [
              "'b'"
            ]
          },
          "metadata": {
            "tags": []
          },
          "execution_count": 30
        }
      ]
    },
    {
      "cell_type": "code",
      "metadata": {
        "id": "tn51D-4Zo1vb",
        "outputId": "2bacf3fa-9ea6-4356-96f4-dcb161953a2c"
      },
      "source": [
        "my_list[-1]"
      ],
      "execution_count": null,
      "outputs": [
        {
          "output_type": "execute_result",
          "data": {
            "text/plain": [
              "'d'"
            ]
          },
          "metadata": {
            "tags": []
          },
          "execution_count": 132
        }
      ]
    },
    {
      "cell_type": "code",
      "metadata": {
        "id": "IhrD2HvKo1vc",
        "outputId": "34e89003-92b2-4814-af90-46930f84994c"
      },
      "source": [
        "my_list[1:]"
      ],
      "execution_count": null,
      "outputs": [
        {
          "output_type": "execute_result",
          "data": {
            "text/plain": [
              "['b', 'c', 'd']"
            ]
          },
          "metadata": {
            "tags": []
          },
          "execution_count": 31
        }
      ]
    },
    {
      "cell_type": "code",
      "metadata": {
        "id": "qrDGf2uXo1vc",
        "outputId": "c3c8bdda-6250-4fa9-ed1e-bf5e94ec87c6"
      },
      "source": [
        "my_list[:1]"
      ],
      "execution_count": null,
      "outputs": [
        {
          "output_type": "execute_result",
          "data": {
            "text/plain": [
              "['a']"
            ]
          },
          "metadata": {
            "tags": []
          },
          "execution_count": 32
        }
      ]
    },
    {
      "cell_type": "code",
      "metadata": {
        "id": "iPjZG2KXo1vc"
      },
      "source": [
        "my_list[0] = 'book'"
      ],
      "execution_count": null,
      "outputs": []
    },
    {
      "cell_type": "code",
      "metadata": {
        "id": "7VCrM-yYo1vc",
        "outputId": "fee00bbd-3314-480d-8bed-5bbd73e2c75c"
      },
      "source": [
        "my_list"
      ],
      "execution_count": null,
      "outputs": [
        {
          "output_type": "execute_result",
          "data": {
            "text/plain": [
              "['book', 'b', 'c', 'd']"
            ]
          },
          "metadata": {
            "tags": []
          },
          "execution_count": 134
        }
      ]
    },
    {
      "cell_type": "code",
      "metadata": {
        "id": "-fvXnMpFo1vd"
      },
      "source": [
        "nest = [1,2,3,[4,5,['target','Book']]]"
      ],
      "execution_count": null,
      "outputs": []
    },
    {
      "cell_type": "code",
      "metadata": {
        "id": "oX6nfF2oo1vd",
        "outputId": "4d4b5e72-d1c2-46b3-cdc0-80933a6740e5"
      },
      "source": [
        "nest[3]"
      ],
      "execution_count": null,
      "outputs": [
        {
          "output_type": "execute_result",
          "data": {
            "text/plain": [
              "[4, 5, ['target']]"
            ]
          },
          "metadata": {
            "tags": []
          },
          "execution_count": 36
        }
      ]
    },
    {
      "cell_type": "code",
      "metadata": {
        "id": "wyE9VNO2o1ve",
        "outputId": "b8378dea-06c0-4ad1-e76e-7ad337242a45"
      },
      "source": [
        "nest[3][2]"
      ],
      "execution_count": null,
      "outputs": [
        {
          "output_type": "execute_result",
          "data": {
            "text/plain": [
              "['target']"
            ]
          },
          "metadata": {
            "tags": []
          },
          "execution_count": 37
        }
      ]
    },
    {
      "cell_type": "code",
      "metadata": {
        "id": "uxNCTZzwo1vf",
        "outputId": "ebffb84b-563d-4d3e-8be5-91b4a6ccc41a"
      },
      "source": [
        "nest[3][2][1]"
      ],
      "execution_count": null,
      "outputs": [
        {
          "output_type": "execute_result",
          "data": {
            "text/plain": [
              "'Book'"
            ]
          },
          "metadata": {
            "tags": []
          },
          "execution_count": 137
        }
      ]
    },
    {
      "cell_type": "code",
      "metadata": {
        "id": "ei09VJnto1vf"
      },
      "source": [
        ""
      ],
      "execution_count": null,
      "outputs": []
    },
    {
      "cell_type": "markdown",
      "metadata": {
        "id": "5f2Tb5cio1vg"
      },
      "source": [
        "### Tuples "
      ]
    },
    {
      "cell_type": "code",
      "metadata": {
        "id": "b8-P4quTo1vg"
      },
      "source": [
        "# Mutable: No\n",
        "# Tuples are generally used when you need to store just two or three values together, such as the x and y values for a point.\n",
        "point = (12.5, 10.6)"
      ],
      "execution_count": null,
      "outputs": []
    },
    {
      "cell_type": "code",
      "metadata": {
        "id": "xIRFXgCOo1vg"
      },
      "source": [
        "t = (1,2,3)"
      ],
      "execution_count": null,
      "outputs": []
    },
    {
      "cell_type": "code",
      "metadata": {
        "id": "4wKlbgJDo1vg",
        "outputId": "8e71e8fc-6f73-4c2b-dc4e-1458d469eea3"
      },
      "source": [
        "t[0]"
      ],
      "execution_count": null,
      "outputs": [
        {
          "output_type": "execute_result",
          "data": {
            "text/plain": [
              "1"
            ]
          },
          "metadata": {
            "tags": []
          },
          "execution_count": 41
        }
      ]
    },
    {
      "cell_type": "code",
      "metadata": {
        "id": "GsDCmAIio1vh",
        "outputId": "261d1210-0b1b-42f0-beaf-880f5d64224d"
      },
      "source": [
        "t[0] = 'NEW'"
      ],
      "execution_count": null,
      "outputs": [
        {
          "output_type": "error",
          "ename": "TypeError",
          "evalue": "'tuple' object does not support item assignment",
          "traceback": [
            "\u001b[1;31m---------------------------------------------------------------------------\u001b[0m",
            "\u001b[1;31mTypeError\u001b[0m                                 Traceback (most recent call last)",
            "\u001b[1;32m<ipython-input-42-93bfe9be1549>\u001b[0m in \u001b[0;36m<module>\u001b[1;34m\u001b[0m\n\u001b[1;32m----> 1\u001b[1;33m \u001b[0mt\u001b[0m\u001b[1;33m[\u001b[0m\u001b[1;36m0\u001b[0m\u001b[1;33m]\u001b[0m \u001b[1;33m=\u001b[0m \u001b[1;34m'NEW'\u001b[0m\u001b[1;33m\u001b[0m\u001b[1;33m\u001b[0m\u001b[0m\n\u001b[0m",
            "\u001b[1;31mTypeError\u001b[0m: 'tuple' object does not support item assignment"
          ]
        }
      ]
    },
    {
      "cell_type": "markdown",
      "metadata": {
        "id": "ecH0PE7xo1vh"
      },
      "source": [
        "### Sets"
      ]
    },
    {
      "cell_type": "code",
      "metadata": {
        "id": "qeogfRZ3o1vh"
      },
      "source": [
        "# A set is an unordered collection with no duplicate elements.\n",
        "# Basic uses include membership testing and eliminating duplicate entries"
      ],
      "execution_count": null,
      "outputs": []
    },
    {
      "cell_type": "code",
      "metadata": {
        "id": "vGESgI4Vo1vi"
      },
      "source": [
        "# empty set\n",
        "s= set()"
      ],
      "execution_count": null,
      "outputs": []
    },
    {
      "cell_type": "code",
      "metadata": {
        "id": "hwsa90kjo1vi"
      },
      "source": [
        "s.add(3)"
      ],
      "execution_count": null,
      "outputs": []
    },
    {
      "cell_type": "code",
      "metadata": {
        "id": "qqiQk0Gro1vi",
        "outputId": "2549a29c-2775-4dd7-b78b-873408a03146"
      },
      "source": [
        "s."
      ],
      "execution_count": null,
      "outputs": [
        {
          "output_type": "execute_result",
          "data": {
            "text/plain": [
              "{3}"
            ]
          },
          "metadata": {
            "tags": []
          },
          "execution_count": 140
        }
      ]
    },
    {
      "cell_type": "code",
      "metadata": {
        "id": "60vSkF49o1vi",
        "outputId": "6d96ad24-5444-4461-fd1b-0753fd09dd75"
      },
      "source": [
        "# another way\n",
        "b={1,2,3}\n",
        "b"
      ],
      "execution_count": null,
      "outputs": [
        {
          "output_type": "execute_result",
          "data": {
            "text/plain": [
              "{1, 2, 3}"
            ]
          },
          "metadata": {
            "tags": []
          },
          "execution_count": 45
        }
      ]
    },
    {
      "cell_type": "code",
      "metadata": {
        "id": "FS5CLHhZo1vj",
        "outputId": "5cd25c45-6ee6-4914-dbe2-b8824c571694"
      },
      "source": [
        "c={1,2,3,1,2,1,2,3,3,3,3,2,2,2,1,1,2}\n",
        "c"
      ],
      "execution_count": null,
      "outputs": [
        {
          "output_type": "execute_result",
          "data": {
            "text/plain": [
              "{1, 2, 3}"
            ]
          },
          "metadata": {
            "tags": []
          },
          "execution_count": 46
        }
      ]
    },
    {
      "cell_type": "markdown",
      "metadata": {
        "id": "8pUI1rJBo1vj"
      },
      "source": [
        "### Dictionaries"
      ]
    },
    {
      "cell_type": "code",
      "metadata": {
        "id": "4atKi6Sco1vj"
      },
      "source": [
        "# Python Dictionaries or dicts, will be especially useful in this course. \n",
        "# A dictionary is a set of key-value pairs, where each key has a corresponding value,\n",
        "# just like in a dictionary, each word (the key) has a corresponding definition (the value)."
      ],
      "execution_count": null,
      "outputs": []
    },
    {
      "cell_type": "code",
      "metadata": {
        "id": "uhs4fNIPo1vj"
      },
      "source": [
        "d = {'key1':'item1','key2':'item2'}"
      ],
      "execution_count": null,
      "outputs": []
    },
    {
      "cell_type": "code",
      "metadata": {
        "id": "qL6C7yFxo1vk",
        "outputId": "84a9365d-4634-41d4-a2d2-30879a8cf077"
      },
      "source": [
        "d"
      ],
      "execution_count": null,
      "outputs": [
        {
          "output_type": "execute_result",
          "data": {
            "text/plain": [
              "{'key1': 'item1', 'key2': 'item2'}"
            ]
          },
          "metadata": {
            "tags": []
          },
          "execution_count": 49
        }
      ]
    },
    {
      "cell_type": "code",
      "metadata": {
        "id": "hJXuTEdEo1vk",
        "outputId": "3e588361-7133-4cc4-f4c6-bb6fd577254c"
      },
      "source": [
        "d['key1']"
      ],
      "execution_count": null,
      "outputs": [
        {
          "output_type": "execute_result",
          "data": {
            "text/plain": [
              "'item1'"
            ]
          },
          "metadata": {
            "tags": []
          },
          "execution_count": 50
        }
      ]
    },
    {
      "cell_type": "code",
      "metadata": {
        "id": "JaGVorA_o1vk",
        "outputId": "10141c1e-1719-42c9-aa75-b0d5f5b549f4"
      },
      "source": [
        "# dictionary methods\n",
        "d.keys()\n",
        "d.values()\n",
        "d.items()"
      ],
      "execution_count": null,
      "outputs": [
        {
          "output_type": "execute_result",
          "data": {
            "text/plain": [
              "dict_items([('key1', 'item1'), ('key2', 'item2')])"
            ]
          },
          "metadata": {
            "tags": []
          },
          "execution_count": 143
        }
      ]
    },
    {
      "cell_type": "code",
      "metadata": {
        "id": "gFHbDvODo1vl"
      },
      "source": [
        "phonebook={'Allan': '0789981418', 'Lin': '076887432'}"
      ],
      "execution_count": null,
      "outputs": []
    },
    {
      "cell_type": "code",
      "metadata": {
        "id": "L4sCCXHTo1vl",
        "outputId": "18905a9e-4c16-4517-9422-bfe04f8df874"
      },
      "source": [
        "phonebook"
      ],
      "execution_count": null,
      "outputs": [
        {
          "output_type": "execute_result",
          "data": {
            "text/plain": [
              "{'Allan': '0789981418', 'Lin': '076887432'}"
            ]
          },
          "metadata": {
            "tags": []
          },
          "execution_count": 145
        }
      ]
    },
    {
      "cell_type": "code",
      "metadata": {
        "id": "EK997Zszo1vl",
        "outputId": "79a44e18-b88f-4c6f-c966-048aa95924f3"
      },
      "source": [
        "phonebook['Allan']"
      ],
      "execution_count": null,
      "outputs": [
        {
          "output_type": "execute_result",
          "data": {
            "text/plain": [
              "'0789981418'"
            ]
          },
          "metadata": {
            "tags": []
          },
          "execution_count": 146
        }
      ]
    },
    {
      "cell_type": "code",
      "metadata": {
        "id": "12fuT0uWo1vl"
      },
      "source": [
        "phonebook['Isaac']='0789976543'"
      ],
      "execution_count": null,
      "outputs": []
    },
    {
      "cell_type": "code",
      "metadata": {
        "id": "F3fyT-73o1vm",
        "outputId": "2b63149f-5e34-4135-822c-7a9bb280b04b"
      },
      "source": [
        "phonebook"
      ],
      "execution_count": null,
      "outputs": [
        {
          "output_type": "execute_result",
          "data": {
            "text/plain": [
              "{'Allan': '0789981418', 'Lin': '076887432', 'Isaac': '0789976543'}"
            ]
          },
          "metadata": {
            "tags": []
          },
          "execution_count": 148
        }
      ]
    },
    {
      "cell_type": "markdown",
      "metadata": {
        "id": "Ej3V4jfzo1vm"
      },
      "source": [
        "### Booleans"
      ]
    },
    {
      "cell_type": "code",
      "metadata": {
        "id": "NHxOuOVZo1vm"
      },
      "source": [
        "#  a form of data with only two possible values (usually \"true\" and \"false\") "
      ],
      "execution_count": null,
      "outputs": []
    },
    {
      "cell_type": "code",
      "metadata": {
        "id": "BsUMYV4Io1vm",
        "outputId": "1fb2a36c-4da0-4a66-dc63-9c75c780c6c7"
      },
      "source": [
        "True"
      ],
      "execution_count": null,
      "outputs": [
        {
          "output_type": "execute_result",
          "data": {
            "text/plain": [
              "True"
            ]
          },
          "metadata": {
            "tags": []
          },
          "execution_count": 53
        }
      ]
    },
    {
      "cell_type": "code",
      "metadata": {
        "id": "A_LCDYrHo1vn",
        "outputId": "c5e3dec6-6509-49a8-ce13-d1f4a2a8123e"
      },
      "source": [
        "False"
      ],
      "execution_count": null,
      "outputs": [
        {
          "output_type": "execute_result",
          "data": {
            "text/plain": [
              "False"
            ]
          },
          "metadata": {
            "tags": []
          },
          "execution_count": 54
        }
      ]
    },
    {
      "cell_type": "markdown",
      "metadata": {
        "id": "E-0btaRho1vn"
      },
      "source": [
        "## Comparison Operators"
      ]
    },
    {
      "cell_type": "code",
      "metadata": {
        "id": "gnY7eT5go1vn",
        "outputId": "da206e1b-e208-4e35-e16e-714b558de346"
      },
      "source": [
        "1 > 2"
      ],
      "execution_count": null,
      "outputs": [
        {
          "output_type": "execute_result",
          "data": {
            "text/plain": [
              "False"
            ]
          },
          "metadata": {
            "tags": []
          },
          "execution_count": 55
        }
      ]
    },
    {
      "cell_type": "code",
      "metadata": {
        "id": "sxKWQ2Q3o1vn",
        "outputId": "6c37b1d8-3c63-4e1d-cccb-1956e082f0f2"
      },
      "source": [
        "1 < 2"
      ],
      "execution_count": null,
      "outputs": [
        {
          "output_type": "execute_result",
          "data": {
            "text/plain": [
              "True"
            ]
          },
          "metadata": {
            "tags": []
          },
          "execution_count": 56
        }
      ]
    },
    {
      "cell_type": "code",
      "metadata": {
        "id": "fkK4HMpUo1vo",
        "outputId": "9f98afb6-5484-40c7-e889-1d7d08fb7728"
      },
      "source": [
        "1 >= 1"
      ],
      "execution_count": null,
      "outputs": [
        {
          "output_type": "execute_result",
          "data": {
            "text/plain": [
              "True"
            ]
          },
          "metadata": {
            "tags": []
          },
          "execution_count": 57
        }
      ]
    },
    {
      "cell_type": "code",
      "metadata": {
        "id": "cBlnmIbfo1vo",
        "outputId": "723a16e5-e86f-4b93-b7af-543308b732bd"
      },
      "source": [
        "1 <= 4"
      ],
      "execution_count": null,
      "outputs": [
        {
          "output_type": "execute_result",
          "data": {
            "text/plain": [
              "True"
            ]
          },
          "metadata": {
            "tags": []
          },
          "execution_count": 58
        }
      ]
    },
    {
      "cell_type": "code",
      "metadata": {
        "id": "p1jq60Soo1vo",
        "outputId": "b117a612-6d0e-430b-c408-a4a908ade413"
      },
      "source": [
        "1 == 1"
      ],
      "execution_count": null,
      "outputs": [
        {
          "output_type": "execute_result",
          "data": {
            "text/plain": [
              "True"
            ]
          },
          "metadata": {
            "tags": []
          },
          "execution_count": 59
        }
      ]
    },
    {
      "cell_type": "code",
      "metadata": {
        "id": "XVUUwwV9o1vo",
        "outputId": "b180bad5-0891-46a4-9aa8-8612b06867db"
      },
      "source": [
        "'hi' == 'bye'"
      ],
      "execution_count": null,
      "outputs": [
        {
          "output_type": "execute_result",
          "data": {
            "text/plain": [
              "False"
            ]
          },
          "metadata": {
            "tags": []
          },
          "execution_count": 60
        }
      ]
    },
    {
      "cell_type": "markdown",
      "metadata": {
        "id": "JV40YjO-o1vp"
      },
      "source": [
        "## Logic Operators"
      ]
    },
    {
      "cell_type": "code",
      "metadata": {
        "id": "kd3MjdBqo1vp",
        "outputId": "d132bb42-f139-4c7d-e108-0851c4d23b47"
      },
      "source": [
        "(1 > 2) and (2 < 3)"
      ],
      "execution_count": null,
      "outputs": [
        {
          "output_type": "execute_result",
          "data": {
            "text/plain": [
              "False"
            ]
          },
          "metadata": {
            "tags": []
          },
          "execution_count": 61
        }
      ]
    },
    {
      "cell_type": "code",
      "metadata": {
        "id": "IfS8CKPKo1vp",
        "outputId": "4f945b06-b089-4e79-9d0c-d2f7ca191855"
      },
      "source": [
        "(1 > 2) or (2 < 3)"
      ],
      "execution_count": null,
      "outputs": [
        {
          "output_type": "execute_result",
          "data": {
            "text/plain": [
              "True"
            ]
          },
          "metadata": {
            "tags": []
          },
          "execution_count": 62
        }
      ]
    },
    {
      "cell_type": "code",
      "metadata": {
        "id": "ImzXavuKo1vp",
        "outputId": "fbca755f-514a-465e-bdc5-b18e3d7c344f"
      },
      "source": [
        "(1 == 2) or (2 == 3) or (4 == 4)"
      ],
      "execution_count": null,
      "outputs": [
        {
          "output_type": "execute_result",
          "data": {
            "text/plain": [
              "True"
            ]
          },
          "metadata": {
            "tags": []
          },
          "execution_count": 63
        }
      ]
    },
    {
      "cell_type": "markdown",
      "metadata": {
        "id": "mZhgzpJLo1vq"
      },
      "source": [
        "## if,elif, else Statements"
      ]
    },
    {
      "cell_type": "code",
      "metadata": {
        "id": "Q9orOigAo1vq",
        "outputId": "12ae0bd2-bf1e-4aac-93d8-dc74950f57c2"
      },
      "source": [
        "if 1 < 2:\n",
        "    print('yes,True!')"
      ],
      "execution_count": null,
      "outputs": [
        {
          "output_type": "stream",
          "text": [
            "yes,True!\n"
          ],
          "name": "stdout"
        }
      ]
    },
    {
      "cell_type": "code",
      "metadata": {
        "id": "Ys1Qyt_2o1vq",
        "outputId": "67edf539-9cd6-49e9-9fd4-cc9ac2d0ca0e"
      },
      "source": [
        "if 1 < 2:\n",
        "    print('first')\n",
        "else:\n",
        "    print('last')"
      ],
      "execution_count": null,
      "outputs": [
        {
          "output_type": "stream",
          "text": [
            "first\n"
          ],
          "name": "stdout"
        }
      ]
    },
    {
      "cell_type": "code",
      "metadata": {
        "id": "SVJp7V5do1vr",
        "outputId": "68aba67d-eb47-488b-af07-587cb96d8311"
      },
      "source": [
        "if 1 > 2:\n",
        "    print('first')\n",
        "else:\n",
        "    print('last')"
      ],
      "execution_count": null,
      "outputs": [
        {
          "output_type": "stream",
          "text": [
            "last\n"
          ],
          "name": "stdout"
        }
      ]
    },
    {
      "cell_type": "code",
      "metadata": {
        "id": "vEhKSuN-o1vs",
        "outputId": "530b22bd-b89b-4d4c-94ec-ed4d4767e17d"
      },
      "source": [
        "if 1 == 2:\n",
        "    print('first')\n",
        "elif 3 == 3:\n",
        "    print('middle')\n",
        "else:\n",
        "    print('Last')"
      ],
      "execution_count": null,
      "outputs": [
        {
          "output_type": "stream",
          "text": [
            "middle\n"
          ],
          "name": "stdout"
        }
      ]
    },
    {
      "cell_type": "markdown",
      "metadata": {
        "id": "C_SiXURSo1vt"
      },
      "source": [
        "## for Loops"
      ]
    },
    {
      "cell_type": "code",
      "metadata": {
        "id": "qZfZSqP2o1vt"
      },
      "source": [
        "items = [1,2,3,4,5]"
      ],
      "execution_count": null,
      "outputs": []
    },
    {
      "cell_type": "code",
      "metadata": {
        "id": "9Ha2vv2Wo1vu",
        "outputId": "5a55f213-7767-4d9c-ac46-1f6e776ff4f7"
      },
      "source": [
        "for item in items:\n",
        "    print(item)"
      ],
      "execution_count": null,
      "outputs": [
        {
          "output_type": "stream",
          "text": [
            "1\n",
            "2\n",
            "3\n",
            "4\n",
            "5\n"
          ],
          "name": "stdout"
        }
      ]
    },
    {
      "cell_type": "code",
      "metadata": {
        "id": "ZvPY4hYGo1vu",
        "outputId": "41652024-21ba-40a5-84bd-4c1ed9e7000e"
      },
      "source": [
        "for item in items:\n",
        "    print('well done')"
      ],
      "execution_count": null,
      "outputs": [
        {
          "output_type": "stream",
          "text": [
            "well done\n",
            "well done\n",
            "well done\n",
            "well done\n",
            "well done\n"
          ],
          "name": "stdout"
        }
      ]
    },
    {
      "cell_type": "code",
      "metadata": {
        "id": "LKxrMAI6o1vv",
        "outputId": "d1211e50-022f-464a-950d-d0df5564ff9a"
      },
      "source": [
        "for mything in items:\n",
        "    print(mything+mything)"
      ],
      "execution_count": null,
      "outputs": [
        {
          "output_type": "stream",
          "text": [
            "2\n",
            "4\n",
            "6\n",
            "8\n",
            "10\n"
          ],
          "name": "stdout"
        }
      ]
    },
    {
      "cell_type": "markdown",
      "metadata": {
        "id": "DgT6Kzufo1vv"
      },
      "source": [
        "## while Loops"
      ]
    },
    {
      "cell_type": "code",
      "metadata": {
        "id": "jotL85mVo1vv",
        "outputId": "7820acf7-400c-417b-cc55-41498175fb15"
      },
      "source": [
        "i = 1\n",
        "while i < 5:\n",
        "    print('i is: {}'.format(i))\n",
        "    i = i+1"
      ],
      "execution_count": null,
      "outputs": [
        {
          "output_type": "stream",
          "text": [
            "i is: 1\n",
            "i is: 2\n",
            "i is: 3\n",
            "i is: 4\n"
          ],
          "name": "stdout"
        }
      ]
    },
    {
      "cell_type": "markdown",
      "metadata": {
        "id": "jdub0m6Zo1vw"
      },
      "source": [
        "## range()"
      ]
    },
    {
      "cell_type": "code",
      "metadata": {
        "id": "RnNsXnHfo1vw",
        "outputId": "49630336-2b02-4d8e-8c2e-476f4834e630"
      },
      "source": [
        "range(5)"
      ],
      "execution_count": null,
      "outputs": [
        {
          "output_type": "execute_result",
          "data": {
            "text/plain": [
              "range(0, 5)"
            ]
          },
          "metadata": {
            "tags": []
          },
          "execution_count": 73
        }
      ]
    },
    {
      "cell_type": "code",
      "metadata": {
        "id": "ld-6mEnMo1vw",
        "outputId": "382be3d4-e597-49d7-b542-9cd36eba8148"
      },
      "source": [
        "for i in range(6):\n",
        "    print(i)"
      ],
      "execution_count": null,
      "outputs": [
        {
          "output_type": "stream",
          "text": [
            "0\n",
            "1\n",
            "2\n",
            "3\n",
            "4\n",
            "5\n"
          ],
          "name": "stdout"
        }
      ]
    },
    {
      "cell_type": "code",
      "metadata": {
        "id": "-17qPR4Ro1vx",
        "outputId": "d99934e8-74a9-4b2c-ada9-ad738745644f"
      },
      "source": [
        "list(range(5))"
      ],
      "execution_count": null,
      "outputs": [
        {
          "output_type": "execute_result",
          "data": {
            "text/plain": [
              "[0, 1, 2, 3, 4]"
            ]
          },
          "metadata": {
            "tags": []
          },
          "execution_count": 75
        }
      ]
    },
    {
      "cell_type": "markdown",
      "metadata": {
        "id": "UJDy31xjo1vx"
      },
      "source": [
        "## list comprehension"
      ]
    },
    {
      "cell_type": "code",
      "metadata": {
        "id": "_8kscoino1vx"
      },
      "source": [
        "x = [1,2,3,4]"
      ],
      "execution_count": null,
      "outputs": []
    },
    {
      "cell_type": "code",
      "metadata": {
        "id": "FiK2E2Yro1vy",
        "outputId": "9efdcd9d-451e-40ff-8adc-2910eae053f7"
      },
      "source": [
        "newX = []\n",
        "for item in x:\n",
        "    newX.append(item**2)\n",
        "print(newX)"
      ],
      "execution_count": null,
      "outputs": [
        {
          "output_type": "stream",
          "text": [
            "[1, 4, 9, 16]\n"
          ],
          "name": "stdout"
        }
      ]
    },
    {
      "cell_type": "code",
      "metadata": {
        "id": "-6WOCy0vo1vz",
        "outputId": "e1e8951a-2e1d-4a9a-e931-068d7078dba0"
      },
      "source": [
        "[item**2 for item in x]"
      ],
      "execution_count": null,
      "outputs": [
        {
          "output_type": "execute_result",
          "data": {
            "text/plain": [
              "[1, 4, 9, 16]"
            ]
          },
          "metadata": {
            "tags": []
          },
          "execution_count": 78
        }
      ]
    },
    {
      "cell_type": "markdown",
      "metadata": {
        "id": "4JjV-k_Yo1vz"
      },
      "source": [
        "## functions"
      ]
    },
    {
      "cell_type": "code",
      "metadata": {
        "id": "L2H9tESAo1v0"
      },
      "source": [
        "def my_func(param1='default'):\n",
        "    \"\"\"\n",
        "    Docstring goes here.\n",
        "    \"\"\"\n",
        "    print(param1)"
      ],
      "execution_count": null,
      "outputs": []
    },
    {
      "cell_type": "code",
      "metadata": {
        "id": "oEM40I25o1v0",
        "outputId": "f82c926b-be63-4682-a000-a92d34bb7fcc"
      },
      "source": [
        "my_func"
      ],
      "execution_count": null,
      "outputs": [
        {
          "output_type": "execute_result",
          "data": {
            "text/plain": [
              "<function __main__.my_func(param1='default')>"
            ]
          },
          "metadata": {
            "tags": []
          },
          "execution_count": 80
        }
      ]
    },
    {
      "cell_type": "code",
      "metadata": {
        "id": "4HQtS-vVo1v0",
        "outputId": "c103691f-adc9-4f79-df43-fa3849b541dd"
      },
      "source": [
        "my_func()"
      ],
      "execution_count": null,
      "outputs": [
        {
          "output_type": "stream",
          "text": [
            "default\n"
          ],
          "name": "stdout"
        }
      ]
    },
    {
      "cell_type": "code",
      "metadata": {
        "id": "K3yS6XB5o1v0",
        "outputId": "d339dc88-0335-46ca-d2a5-14277c3b7a58"
      },
      "source": [
        "my_func('new parameter')"
      ],
      "execution_count": null,
      "outputs": [
        {
          "output_type": "stream",
          "text": [
            "new parameter\n"
          ],
          "name": "stdout"
        }
      ]
    },
    {
      "cell_type": "code",
      "metadata": {
        "id": "xvA2LbADo1v1",
        "outputId": "854966f8-db49-42c4-9770-c405bda7d65a"
      },
      "source": [
        "my_func(param1='new parameter')"
      ],
      "execution_count": null,
      "outputs": [
        {
          "output_type": "stream",
          "text": [
            "new parameter\n"
          ],
          "name": "stdout"
        }
      ]
    },
    {
      "cell_type": "code",
      "metadata": {
        "id": "IsNx3qLQo1v1"
      },
      "source": [
        "def square(x):\n",
        "    return x**2"
      ],
      "execution_count": null,
      "outputs": []
    },
    {
      "cell_type": "code",
      "metadata": {
        "id": "wacYTFrmo1v1"
      },
      "source": [
        "sqre = square(2)"
      ],
      "execution_count": null,
      "outputs": []
    },
    {
      "cell_type": "code",
      "metadata": {
        "scrolled": true,
        "id": "84iKMDaLo1v2",
        "outputId": "bc6e2b9c-6518-40df-9e55-60fbbf81e97a"
      },
      "source": [
        "print(sqre)"
      ],
      "execution_count": null,
      "outputs": [
        {
          "output_type": "stream",
          "text": [
            "4\n"
          ],
          "name": "stdout"
        }
      ]
    },
    {
      "cell_type": "code",
      "metadata": {
        "id": "G9koiscGo1v2"
      },
      "source": [
        "def add(x,y):\n",
        "    return x+y"
      ],
      "execution_count": null,
      "outputs": []
    },
    {
      "cell_type": "code",
      "metadata": {
        "id": "69coV6_mo1v2",
        "outputId": "3ee5ab95-2187-4482-ac8e-478fc27c947e"
      },
      "source": [
        "add(3,7)"
      ],
      "execution_count": null,
      "outputs": [
        {
          "output_type": "execute_result",
          "data": {
            "text/plain": [
              "10"
            ]
          },
          "metadata": {
            "tags": []
          },
          "execution_count": 153
        }
      ]
    },
    {
      "cell_type": "markdown",
      "metadata": {
        "id": "jO_UtIyCo1v3"
      },
      "source": [
        "## lambda expressions"
      ]
    },
    {
      "cell_type": "code",
      "metadata": {
        "id": "pc-ulQd4o1v3"
      },
      "source": [
        "def times2(var):\n",
        "    return var*2"
      ],
      "execution_count": null,
      "outputs": []
    },
    {
      "cell_type": "code",
      "metadata": {
        "id": "kbTc4Mcro1v3",
        "outputId": "41755f91-44f4-402d-e8c3-b2e347ae43c5"
      },
      "source": [
        "times2(2)"
      ],
      "execution_count": null,
      "outputs": [
        {
          "output_type": "execute_result",
          "data": {
            "text/plain": [
              "4"
            ]
          },
          "metadata": {
            "tags": []
          },
          "execution_count": 88
        }
      ]
    },
    {
      "cell_type": "code",
      "metadata": {
        "id": "0EcLVZrCo1v4",
        "outputId": "20dc83a4-b661-4eec-ace9-9be20a2ef25e"
      },
      "source": [
        "lambda var: var*2   "
      ],
      "execution_count": null,
      "outputs": [
        {
          "output_type": "execute_result",
          "data": {
            "text/plain": [
              "<function __main__.<lambda>(var)>"
            ]
          },
          "metadata": {
            "tags": []
          },
          "execution_count": 89
        }
      ]
    },
    {
      "cell_type": "markdown",
      "metadata": {
        "id": "NNRw81kOo1v4"
      },
      "source": [
        "## map and filter"
      ]
    },
    {
      "cell_type": "code",
      "metadata": {
        "id": "m9KUtJ38o1v4"
      },
      "source": [
        "# Map applies a function to all the items in an input_list"
      ],
      "execution_count": null,
      "outputs": []
    },
    {
      "cell_type": "code",
      "metadata": {
        "id": "Z_qaarg7o1v-"
      },
      "source": [
        "seq = [1,2,3,4,5]"
      ],
      "execution_count": null,
      "outputs": []
    },
    {
      "cell_type": "code",
      "metadata": {
        "id": "rFLy63J5o1v-",
        "outputId": "3cd70251-4698-4d5c-e94a-d4bf4cceddfc"
      },
      "source": [
        "map(times2,seq)"
      ],
      "execution_count": null,
      "outputs": [
        {
          "output_type": "execute_result",
          "data": {
            "text/plain": [
              "<map at 0x1f9e07a0eb0>"
            ]
          },
          "metadata": {
            "tags": []
          },
          "execution_count": 92
        }
      ]
    },
    {
      "cell_type": "code",
      "metadata": {
        "id": "b_zwcnrJo1v_",
        "outputId": "0421ac58-8be4-41f6-9c9a-84e8325edd8f"
      },
      "source": [
        "list(map(times2,seq))"
      ],
      "execution_count": null,
      "outputs": [
        {
          "output_type": "execute_result",
          "data": {
            "text/plain": [
              "[2, 4, 6, 8, 10]"
            ]
          },
          "metadata": {
            "tags": []
          },
          "execution_count": 93
        }
      ]
    },
    {
      "cell_type": "code",
      "metadata": {
        "id": "rIjezhsMo1v_",
        "outputId": "4e30cb30-1b13-4d75-a0a8-c0cd6a4a62dc"
      },
      "source": [
        "list(map(lambda var: var*2,seq))"
      ],
      "execution_count": null,
      "outputs": [
        {
          "output_type": "execute_result",
          "data": {
            "text/plain": [
              "[2, 4, 6, 8, 10]"
            ]
          },
          "metadata": {
            "tags": []
          },
          "execution_count": 94
        }
      ]
    },
    {
      "cell_type": "code",
      "metadata": {
        "id": "Hjn7qb5To1v_"
      },
      "source": [
        "# Filter: As the name suggests, filter creates a list of elements for which a function returns true"
      ],
      "execution_count": null,
      "outputs": []
    },
    {
      "cell_type": "code",
      "metadata": {
        "id": "d30tLix_o1v_",
        "outputId": "7fcc7020-5b94-4583-fb38-6bcc0ace606e"
      },
      "source": [
        "filter(lambda item: item%2 == 0,seq)"
      ],
      "execution_count": null,
      "outputs": [
        {
          "output_type": "execute_result",
          "data": {
            "text/plain": [
              "<filter at 0x1f9e079ffd0>"
            ]
          },
          "metadata": {
            "tags": []
          },
          "execution_count": 96
        }
      ]
    },
    {
      "cell_type": "code",
      "metadata": {
        "id": "Ikj7tEzZo1wA",
        "outputId": "4066fa32-98ee-4d75-d436-0b78f7222a1c"
      },
      "source": [
        "list(filter(lambda item: item%2 == 0,seq))"
      ],
      "execution_count": null,
      "outputs": [
        {
          "output_type": "execute_result",
          "data": {
            "text/plain": [
              "[2, 4]"
            ]
          },
          "metadata": {
            "tags": []
          },
          "execution_count": 97
        }
      ]
    },
    {
      "cell_type": "markdown",
      "metadata": {
        "id": "FGawR_Cpo1wA"
      },
      "source": [
        "## # some methods on strings"
      ]
    },
    {
      "cell_type": "code",
      "metadata": {
        "id": "4-1Y_FEEo1wB"
      },
      "source": [
        "st = 'hello my name is Lin a new python student'"
      ],
      "execution_count": null,
      "outputs": []
    },
    {
      "cell_type": "code",
      "metadata": {
        "id": "RBh9paxno1wB",
        "outputId": "4c9e5f74-a439-42af-f7d5-cf7a63138651"
      },
      "source": [
        "st.lower()"
      ],
      "execution_count": null,
      "outputs": [
        {
          "output_type": "execute_result",
          "data": {
            "text/plain": [
              "'hello my name is lin a new python student'"
            ]
          },
          "metadata": {
            "tags": []
          },
          "execution_count": 99
        }
      ]
    },
    {
      "cell_type": "code",
      "metadata": {
        "id": "1quGsuXeo1wB",
        "outputId": "f91bbf07-a14a-410c-f8e1-570e1d415b63"
      },
      "source": [
        "st.upper()"
      ],
      "execution_count": null,
      "outputs": [
        {
          "output_type": "execute_result",
          "data": {
            "text/plain": [
              "'HELLO MY NAME IS LIN A NEW PYTHON STUDENT'"
            ]
          },
          "metadata": {
            "tags": []
          },
          "execution_count": 100
        }
      ]
    },
    {
      "cell_type": "code",
      "metadata": {
        "id": "1qz0wn_io1wC",
        "outputId": "8ba2bc2c-c40f-4e8c-b17e-6490b4c45841"
      },
      "source": [
        "st.split()"
      ],
      "execution_count": null,
      "outputs": [
        {
          "output_type": "execute_result",
          "data": {
            "text/plain": [
              "['hello', 'my', 'name', 'is', 'Lin', 'a', 'new', 'python', 'student']"
            ]
          },
          "metadata": {
            "tags": []
          },
          "execution_count": 101
        }
      ]
    },
    {
      "cell_type": "code",
      "metadata": {
        "id": "xCdQFDkpo1wC"
      },
      "source": [
        "tweet = 'Go Sports! #Sports'"
      ],
      "execution_count": null,
      "outputs": []
    },
    {
      "cell_type": "code",
      "metadata": {
        "id": "F1BhyMHSo1wC",
        "outputId": "9e5fc94f-68f8-471b-acf0-e6a8f09f2b57"
      },
      "source": [
        "tweet.split('#')"
      ],
      "execution_count": null,
      "outputs": [
        {
          "output_type": "execute_result",
          "data": {
            "text/plain": [
              "['Go Sports! ', 'Sports']"
            ]
          },
          "metadata": {
            "tags": []
          },
          "execution_count": 103
        }
      ]
    },
    {
      "cell_type": "code",
      "metadata": {
        "id": "Z2U9wZ6Io1wD",
        "outputId": "388cb3e0-e13b-4c88-9874-74e5b6b499e1"
      },
      "source": [
        "tweet.split('#')[1]"
      ],
      "execution_count": null,
      "outputs": [
        {
          "output_type": "execute_result",
          "data": {
            "text/plain": [
              "'Sports'"
            ]
          },
          "metadata": {
            "tags": []
          },
          "execution_count": 104
        }
      ]
    },
    {
      "cell_type": "markdown",
      "metadata": {
        "id": "et-dRWVFo1wD"
      },
      "source": [
        "# The End: Great Job>"
      ]
    },
    {
      "cell_type": "code",
      "metadata": {
        "id": "ZDn4ju-2o1wD"
      },
      "source": [
        ""
      ],
      "execution_count": null,
      "outputs": []
    },
    {
      "cell_type": "code",
      "metadata": {
        "id": "Cjz3kWZ0o1wE"
      },
      "source": [
        ""
      ],
      "execution_count": null,
      "outputs": []
    }
  ]
}